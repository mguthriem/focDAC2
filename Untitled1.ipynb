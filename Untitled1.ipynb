{
 "cells": [
  {
   "cell_type": "markdown",
   "id": "2a3eccef",
   "metadata": {},
   "source": [
    "# Calibrate\n",
    "\n",
    "PREREQUISITES: A diffraction dataset from one of allowed standards: \n",
    "\n",
    "TODO: list these"
   ]
  },
  {
   "cell_type": "code",
   "execution_count": 3,
   "id": "79c71992",
   "metadata": {},
   "outputs": [
    {
     "name": "stdout",
     "output_type": "stream",
     "text": [
      "ConfigService-[Information] Unable to locate directory at: /etc/mantid/instrument\n",
      "ConfigService-[Information] This is Mantid version 6.2.0 revision gbf806d7983f\n",
      "ConfigService-[Information] running on analysis-node16.sns.gov starting 2022-09-07T14:52Z\n",
      "ConfigService-[Information] Properties file(s) loaded: /SNS/users/66j/miniconda3/envs/scippneutron/bin/Mantid.properties, /etc/mantid.local.properties, /SNS/users/66j/.mantid/Mantid.user.properties\n",
      "ConfigService-[Information] Unable to locate directory at: /etc/mantid/instrument\n",
      "FrameworkManager-[Notice] Welcome to Mantid 6.2.0\n",
      "FrameworkManager-[Notice] Please cite: http://dx.doi.org/10.1016/j.nima.2014.07.029 and this release: http://dx.doi.org/10.5286/Software/Mantid6.2\n",
      "FrameworkManager-[Information] Version check disabled.\n",
      "GitHubApiHelper-[Information] Making unauthenticated calls to GitHub\n",
      "GitHubApiHelper-[Information] Making unauthenticated calls to GitHub\n",
      "DownloadInstrument-[Notice] All instrument definitions up to date\n",
      "<built-in method lower of str object at 0x7fbe6833e3b0>\n",
      "Currently only works for diamond and LaB6!\n"
     ]
    }
   ],
   "source": [
    "%run /SNS/SNAP/shared/Malcolm/devel/SandPitSNAP/SNAPAutoCal 48705 diam"
   ]
  }
 ],
 "metadata": {
  "kernelspec": {
   "display_name": "Python 3 (ipykernel)",
   "language": "python",
   "name": "python3"
  },
  "language_info": {
   "codemirror_mode": {
    "name": "ipython",
    "version": 3
   },
   "file_extension": ".py",
   "mimetype": "text/x-python",
   "name": "python",
   "nbconvert_exporter": "python",
   "pygments_lexer": "ipython3",
   "version": "3.8.12"
  }
 },
 "nbformat": 4,
 "nbformat_minor": 5
}
