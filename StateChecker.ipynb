{
 "cells": [
  {
   "cell_type": "code",
   "execution_count": 21,
   "id": "35c939a6-7c5c-4cbc-90ec-7ba49e861fda",
   "metadata": {},
   "outputs": [],
   "source": [
    "a_run = 48746"
   ]
  },
  {
   "cell_type": "code",
   "execution_count": null,
   "id": "ff16e55c-244e-4814-ae41-f102452a92b9",
   "metadata": {},
   "outputs": [],
   "source": [
    "stateID,sDict,errorState = DAC.StateFromRunFunction(a_run)\n",
    "# there are a great number of ways that the above function can fail.\n",
    "# I have edited it (and all sub functions) to pass errorState a dictionary\n",
    "# with sufficient information to handle exceptions\n",
    "\n",
    "if errorState['value']==0:\n",
    "    stateString = (f'''\n",
    "\n",
    "    ### State ID: {stateID}\n",
    "\n",
    "\n",
    "    |Parameter    | Value                 | \n",
    "    |-------------|-----------------------|\n",
    "    |det1         | {sDict[\"det_arc1\"]:.1f}  |\n",
    "    |det_arc2     | {sDict[\"det_arc2\"]:.1f}   |\n",
    "    |wav          | {sDict[\"wav\"]:.2f}        |\n",
    "    |freq         | {sDict[\"freq\"]:.2f}    |\n",
    "    |guide status:| {sDict[\"GuideStat\"]}  |\n",
    "\n",
    "    State calibration folder: \n",
    "    {iPrm.stateLoc}{stateID}/\n",
    "\n",
    "                  ''')\n",
    "    target.object = stateString\n",
    "\n",
    "#        sPrm = DAC.getStatePrm(int(runs[0]),calibState_Toggle.value)\n",
    "\n",
    "    red_Button.disabled = False\n",
    "    Alert.visible = False\n",
    "    sPrm_df = pd.DataFrame.from_dict(sPrm)\n",
    "    prm_df = pn.pane.DataFrame(sPrm_df,width=400)\n",
    "else:\n",
    "    stateString = (f'''\n",
    "\n",
    "    ###An error has occurred: \n",
    "\n",
    "    * function: {errorState['function']} failed\n",
    "    * ERROR: {errorState['value']} - {errorState['message']}\n",
    "    * details: {errorState['parameters']} \n",
    "\n",
    "\n",
    "''')"
   ]
  }
 ],
 "metadata": {
  "kernelspec": {
   "display_name": "Python 3 (ipykernel)",
   "language": "python",
   "name": "python3"
  },
  "language_info": {
   "codemirror_mode": {
    "name": "ipython",
    "version": 3
   },
   "file_extension": ".py",
   "mimetype": "text/x-python",
   "name": "python",
   "nbconvert_exporter": "python",
   "pygments_lexer": "ipython3",
   "version": "3.8.12"
  }
 },
 "nbformat": 4,
 "nbformat_minor": 5
}
