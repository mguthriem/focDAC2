{
 "cells": [
  {
   "cell_type": "markdown",
   "id": "94c16d4c",
   "metadata": {},
   "source": [
    "# Make Vanadium Correction\n",
    "\n",
    "** PREREQUISITES: ** \n",
    "\n",
    "1) A geometry calibration must have been performed for the vanadium state. \n",
    "2) A vanadium dataset must exist\n",
    "3) An empty instrument measurement must exist\n",
    "\n",
    "NOTE: `SNAPAutoCal.py` can be used to do the geometric calibration\n",
    "\n",
    "Enter calibration variables below:"
   ]
  },
  {
   "cell_type": "code",
   "execution_count": null,
   "id": "d7a68d11",
   "metadata": {},
   "outputs": [],
   "source": [
    "# BASIC SETTINGS #######################\n",
    "\n",
    "VRun = 48707 # Vanadium measurement\n",
    "VBRun = 48708 # Corresponding empty instrument\n",
    "calibState = 'before' #Need to specify if geometric calibration data collected before or after vanadium\n",
    "\n",
    "VHeight = 0.3 #Illuminated height of V (in cm)\n",
    "VRad = 0.159 #Radius of V (in cm)\n",
    "\n",
    "# ADVANCED SETTINGS ####################\n",
    "\n",
    "VPrm = {'VRun':VRun,\n",
    "       'VBRun':VBRun,\n",
    "        'calibState':calibState,\n",
    "       'VHeight':VHeight,\n",
    "       'VRad':VRad,\n",
    "       'NSlice':'10',\n",
    "       'NAnnul':'10',\n",
    "        'VMsk':'',\n",
    "        'VPeaks':'1.2356,1.5133,2.1401',\n",
    "        'VSmoothPoints':'40',\n",
    "        'liteMode':True\n",
    "       }\n",
    "\n"
   ]
  }
 ],
 "metadata": {
  "kernelspec": {
   "display_name": "Python 3 (ipykernel)",
   "language": "python",
   "name": "python3"
  },
  "language_info": {
   "codemirror_mode": {
    "name": "ipython",
    "version": 3
   },
   "file_extension": ".py",
   "mimetype": "text/x-python",
   "name": "python",
   "nbconvert_exporter": "python",
   "pygments_lexer": "ipython3",
   "version": "3.8.12"
  }
 },
 "nbformat": 4,
 "nbformat_minor": 5
}
