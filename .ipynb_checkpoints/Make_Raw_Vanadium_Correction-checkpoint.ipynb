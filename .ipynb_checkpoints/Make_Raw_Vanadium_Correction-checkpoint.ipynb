{
 "cells": [
  {
   "cell_type": "code",
   "execution_count": 2,
   "id": "808a791c",
   "metadata": {},
   "outputs": [
    {
     "name": "stdout",
     "output_type": "stream",
     "text": [
      "ConfigService-[Information] Unable to locate directory at: /etc/mantid/instrument\n",
      "ConfigService-[Information] This is Mantid version 6.2.0 revision gbf806d7983f\n",
      "ConfigService-[Information] running on analysis-node16.sns.gov starting 2022-09-09T20:32Z\n",
      "ConfigService-[Information] Properties file(s) loaded: /SNS/users/66j/miniconda3/envs/scippneutron/bin/Mantid.properties, /etc/mantid.local.properties, /SNS/users/66j/.mantid/Mantid.user.properties\n",
      "ConfigService-[Information] Unable to locate directory at: /etc/mantid/instrument\n",
      "FrameworkManager-[Notice] Welcome to Mantid 6.2.0\n",
      "FrameworkManager-[Notice] Please cite: http://dx.doi.org/10.1016/j.nima.2014.07.029 and this release: http://dx.doi.org/10.5286/Software/Mantid6.2\n",
      "FrameworkManager-[Information] Version check disabled.\n",
      "GitHubApiHelper-[Information] Making unauthenticated calls to GitHub\n",
      "GitHubApiHelper-[Information] Making unauthenticated calls to GitHub\n",
      "DownloadInstrument-[Notice] All instrument definitions up to date\n"
     ]
    }
   ],
   "source": []
  },
  {
   "cell_type": "markdown",
   "id": "b35c67db",
   "metadata": {},
   "source": [
    "# Make Raw Vanadium Correction\n",
    "\n",
    "**PURPOSE:** \n",
    "\n",
    "1) Creates a partially corrected vanadium correction, retaining full instrument geometry and stores it to the appropriate location for the instrument state. This \"raw\" vanadium is read in and processed during the main reduction workflow of `SNAPRed` allowing the application of a run-specific mask. \n",
    "\n",
    "2) Allows inspection of a final corrected vanadium correction to ensure parameters (e.g. smoothing and peak removal) used are suitable. THis also allows a determination of the useful d-spacing limits for each of the pixel groupings for the state. \n",
    "\n",
    "**PREREQUISITES:** \n",
    "\n",
    "A geometric calibration file must exist for the relevant instrument state\n",
    "\n",
    "**INSTRUCTIONS:** \n",
    "\n",
    "1) In the cell below, Update the run numbers for vanadium run.\n",
    "2) Ensure information on vanadium calibrant is accurate\n",
    "3) Execute the cell below.\n",
    "\n",
    "**Detail**\n",
    "\n",
    "TODO: Create link in future here..."
   ]
  },
  {
   "cell_type": "code",
   "execution_count": 12,
   "id": "7b7354a5",
   "metadata": {},
   "outputs": [
    {
     "ename": "NameError",
     "evalue": "name 'config' is not defined",
     "output_type": "error",
     "traceback": [
      "\u001b[0;31m---------------------------------------------------------------------------\u001b[0m",
      "\u001b[0;31mNameError\u001b[0m                                 Traceback (most recent call last)",
      "\u001b[0;32m/tmp/ipykernel_128109/3617846842.py\u001b[0m in \u001b[0;36m<module>\u001b[0;34m\u001b[0m\n\u001b[1;32m      2\u001b[0m \u001b[0;32mimport\u001b[0m \u001b[0mimportlib\u001b[0m\u001b[0;34m\u001b[0m\u001b[0;34m\u001b[0m\u001b[0m\n\u001b[1;32m      3\u001b[0m \u001b[0mimportlib\u001b[0m\u001b[0;34m.\u001b[0m\u001b[0mreload\u001b[0m\u001b[0;34m(\u001b[0m\u001b[0mDAC\u001b[0m\u001b[0;34m)\u001b[0m\u001b[0;34m\u001b[0m\u001b[0;34m\u001b[0m\u001b[0m\n\u001b[0;32m----> 4\u001b[0;31m \u001b[0mconfig\u001b[0m\u001b[0;34m.\u001b[0m\u001b[0msetLogLevel\u001b[0m\u001b[0;34m(\u001b[0m\u001b[0;36m0\u001b[0m\u001b[0;34m,\u001b[0m \u001b[0mquiet\u001b[0m\u001b[0;34m=\u001b[0m\u001b[0;32mTrue\u001b[0m\u001b[0;34m)\u001b[0m\u001b[0;34m\u001b[0m\u001b[0;34m\u001b[0m\u001b[0m\n\u001b[0m\u001b[1;32m      5\u001b[0m \u001b[0;34m\u001b[0m\u001b[0m\n\u001b[1;32m      6\u001b[0m \u001b[0;31m### EDIT BELOW HERE ###############################\u001b[0m\u001b[0;34m\u001b[0m\u001b[0;34m\u001b[0m\u001b[0;34m\u001b[0m\u001b[0m\n",
      "\u001b[0;31mNameError\u001b[0m: name 'config' is not defined"
     ]
    }
   ],
   "source": [
    "import FocDACUtilities as DAC\n",
    "import importlib\n",
    "importlib.reload(DAC)\n",
    "from mantid import config\n",
    "config.setLogLevel(0, quiet=True)\n",
    "\n",
    "### EDIT BELOW HERE ###############################\n",
    "\n",
    "#Enter vanadium run number, corresponding empty run number:\n",
    "\n",
    "vPrm = {'VRun':48707,\n",
    "        'VBRun':48708,\n",
    "        \n",
    "#Specify whether geometric calibration was measured before or after vanadium:\n",
    "        \n",
    "        'calibState':'before',\n",
    "   \n",
    "#Adjust any other correction parameters as necessary:\n",
    "        \n",
    "        'VHeight':0.3,# height of illuminated volume of vanadium (cm)\n",
    "        'VRad':0.159, # radius of vanadium (cm)\n",
    "        'NSlice':'10',\n",
    "        'NAnnul':'10',\n",
    "        'VMsk':'', #name of pixel mask file that should be applied to vanadium\n",
    "        'VPeaks':'1.2356,1.5133,2.1401', #d-spacings of Bragg peaks to remove\n",
    "        'VSmoothPoints':20,\n",
    "        'liteMode':False\n",
    "       }\n",
    "\n",
    "###EDIT ABOVE THIS LINE ###############################\n",
    "\n",
    "DAC.makeRawVCorr(vPrm)"
   ]
  },
  {
   "cell_type": "code",
   "execution_count": 7,
   "id": "bbea9e4a",
   "metadata": {},
   "outputs": [
    {
     "ename": "NameError",
     "evalue": "name 'vPrm' is not defined",
     "output_type": "error",
     "traceback": [
      "\u001b[0;31m---------------------------------------------------------------------------\u001b[0m",
      "\u001b[0;31mNameError\u001b[0m                                 Traceback (most recent call last)",
      "\u001b[0;32m/tmp/ipykernel_128109/528015590.py\u001b[0m in \u001b[0;36m<module>\u001b[0;34m\u001b[0m\n\u001b[0;32m----> 1\u001b[0;31m \u001b[0mdir\u001b[0m\u001b[0;34m(\u001b[0m\u001b[0mvPrm\u001b[0m\u001b[0;34m)\u001b[0m\u001b[0;34m\u001b[0m\u001b[0;34m\u001b[0m\u001b[0m\n\u001b[0m",
      "\u001b[0;31mNameError\u001b[0m: name 'vPrm' is not defined"
     ]
    }
   ],
   "source": []
  }
 ],
 "metadata": {
  "kernelspec": {
   "display_name": "Python 3 (ipykernel)",
   "language": "python",
   "name": "python3"
  },
  "language_info": {
   "codemirror_mode": {
    "name": "ipython",
    "version": 3
   },
   "file_extension": ".py",
   "mimetype": "text/x-python",
   "name": "python",
   "nbconvert_exporter": "python",
   "pygments_lexer": "ipython3",
   "version": "3.8.12"
  }
 },
 "nbformat": 4,
 "nbformat_minor": 5
}
